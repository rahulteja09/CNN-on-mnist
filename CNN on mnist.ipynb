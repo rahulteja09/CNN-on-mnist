{
 "cells": [
  {
   "cell_type": "code",
   "execution_count": 0,
   "metadata": {
    "colab": {
     "base_uri": "https://localhost:8080/",
     "height": 34
    },
    "colab_type": "code",
    "id": "kLolQ3L4j7UV",
    "outputId": "c7c4e13e-34bb-43a4-9892-e8023019ec6f"
   },
   "outputs": [
    {
     "name": "stderr",
     "output_type": "stream",
     "text": [
      "Using TensorFlow backend.\n"
     ]
    }
   ],
   "source": [
    "import keras\n",
    "from keras.datasets import mnist\n",
    "from keras.models import Sequential\n",
    "from keras.layers import Dense, Dropout, Flatten,BatchNormalization\n",
    "from keras.layers import Conv2D, MaxPooling2D\n",
    "from keras import backend as K"
   ]
  },
  {
   "cell_type": "code",
   "execution_count": 0,
   "metadata": {
    "colab": {},
    "colab_type": "code",
    "id": "EYNNU1Ey6Kpk"
   },
   "outputs": [],
   "source": [
    "batch_size = 128\n",
    "num_classes = 10\n",
    "epochs = 12"
   ]
  },
  {
   "cell_type": "code",
   "execution_count": 0,
   "metadata": {
    "colab": {
     "base_uri": "https://localhost:8080/",
     "height": 51
    },
    "colab_type": "code",
    "id": "cAZazYKm6RdN",
    "outputId": "6ec22f06-8510-4d21-f045-a3be0bb64d44"
   },
   "outputs": [
    {
     "name": "stdout",
     "output_type": "stream",
     "text": [
      "Downloading data from https://s3.amazonaws.com/img-datasets/mnist.npz\n",
      "11493376/11490434 [==============================] - 0s 0us/step\n"
     ]
    }
   ],
   "source": [
    "# the data, split between train and test sets\n",
    "(x_train, y_train), (x_test, y_test) = mnist.load_data()\n"
   ]
  },
  {
   "cell_type": "code",
   "execution_count": 0,
   "metadata": {
    "colab": {
     "base_uri": "https://localhost:8080/",
     "height": 68
    },
    "colab_type": "code",
    "id": "hj6dsbBh6b0k",
    "outputId": "3e5dc839-1ad1-42ba-8a41-362460e118f4"
   },
   "outputs": [
    {
     "name": "stdout",
     "output_type": "stream",
     "text": [
      "x_train shape: (60000, 28, 28, 1)\n",
      "60000 train samples\n",
      "10000 test samples\n"
     ]
    }
   ],
   "source": [
    "img_rows, img_cols = 28, 28\n",
    "if K.image_data_format() == 'channels_first':\n",
    "    x_train = x_train.reshape(x_train.shape[0], 1, img_rows, img_cols)\n",
    "    x_test = x_test.reshape(x_test.shape[0], 1, img_rows, img_cols)\n",
    "    input_shape = (1, img_rows, img_cols)\n",
    "else:\n",
    "    x_train = x_train.reshape(x_train.shape[0], img_rows, img_cols, 1)\n",
    "    x_test = x_test.reshape(x_test.shape[0], img_rows, img_cols, 1)\n",
    "    input_shape = (img_rows, img_cols, 1)\n",
    "\n",
    "x_train = x_train.astype('float32')\n",
    "x_test = x_test.astype('float32')\n",
    "x_train /= 255\n",
    "x_test /= 255\n",
    "print('x_train shape:', x_train.shape)\n",
    "print(x_train.shape[0], 'train samples')\n",
    "print(x_test.shape[0], 'test samples')\n"
   ]
  },
  {
   "cell_type": "code",
   "execution_count": 0,
   "metadata": {
    "colab": {},
    "colab_type": "code",
    "id": "dsPTabPAFKp7"
   },
   "outputs": [],
   "source": [
    "y_train = keras.utils.to_categorical(y_train, num_classes)\n",
    "y_test = keras.utils.to_categorical(y_test, num_classes)\n"
   ]
  },
  {
   "cell_type": "markdown",
   "metadata": {},
   "source": [
    "#### Model 1 with drop rate 0.3"
   ]
  },
  {
   "cell_type": "code",
   "execution_count": 0,
   "metadata": {
    "colab": {
     "base_uri": "https://localhost:8080/",
     "height": 564
    },
    "colab_type": "code",
    "id": "vKXTZSrtGrKz",
    "outputId": "9f7e317c-872c-420f-93c2-c030aad1287a"
   },
   "outputs": [
    {
     "name": "stdout",
     "output_type": "stream",
     "text": [
      "WARNING:tensorflow:From /usr/local/lib/python3.6/dist-packages/tensorflow/python/framework/op_def_library.py:263: colocate_with (from tensorflow.python.framework.ops) is deprecated and will be removed in a future version.\n",
      "Instructions for updating:\n",
      "Colocations handled automatically by placer.\n",
      "WARNING:tensorflow:From /usr/local/lib/python3.6/dist-packages/keras/backend/tensorflow_backend.py:3445: calling dropout (from tensorflow.python.ops.nn_ops) with keep_prob is deprecated and will be removed in a future version.\n",
      "Instructions for updating:\n",
      "Please use `rate` instead of `keep_prob`. Rate should be set to `rate = 1 - keep_prob`.\n",
      "_________________________________________________________________\n",
      "Layer (type)                 Output Shape              Param #   \n",
      "=================================================================\n",
      "conv2d_1 (Conv2D)            (None, 28, 28, 25)        250       \n",
      "_________________________________________________________________\n",
      "conv2d_2 (Conv2D)            (None, 28, 28, 50)        11300     \n",
      "_________________________________________________________________\n",
      "conv2d_3 (Conv2D)            (None, 28, 28, 100)       45100     \n",
      "_________________________________________________________________\n",
      "dropout_1 (Dropout)          (None, 28, 28, 100)       0         \n",
      "_________________________________________________________________\n",
      "max_pooling2d_1 (MaxPooling2 (None, 7, 7, 100)         0         \n",
      "_________________________________________________________________\n",
      "flatten_1 (Flatten)          (None, 4900)              0         \n",
      "_________________________________________________________________\n",
      "dense_1 (Dense)              (None, 100)               490100    \n",
      "_________________________________________________________________\n",
      "batch_normalization_1 (Batch (None, 100)               400       \n",
      "_________________________________________________________________\n",
      "dense_2 (Dense)              (None, 10)                1010      \n",
      "=================================================================\n",
      "Total params: 548,160\n",
      "Trainable params: 547,960\n",
      "Non-trainable params: 200\n",
      "_________________________________________________________________\n"
     ]
    }
   ],
   "source": [
    "model1= Sequential()\n",
    "model1.add(Conv2D(25, kernel_size=(3, 3),activation='relu',input_shape=input_shape,padding='same'))\n",
    "model1.add(Conv2D(50, (3, 3), activation='relu',padding='same'))\n",
    "model1.add(Conv2D(100, (3, 3), activation='relu',padding='same'))\n",
    "model1.add(Dropout(0.3))\n",
    "model1.add(MaxPooling2D(pool_size=(4, 4)))\n",
    "model1.add(Flatten())\n",
    "model1.add(Dense(100, activation='relu'))\n",
    "model1.add(BatchNormalization())\n",
    "model1.add(Dense(num_classes, activation='softmax'))\n",
    "model1.compile(optimizer='adam', loss='categorical_crossentropy', metrics=['accuracy'])\n",
    "model1.summary()"
   ]
  },
  {
   "cell_type": "code",
   "execution_count": 0,
   "metadata": {
    "colab": {
     "base_uri": "https://localhost:8080/",
     "height": 544
    },
    "colab_type": "code",
    "id": "8a9jnwd11UN-",
    "outputId": "4433bddd-5457-495a-f9d3-2bec793392f5"
   },
   "outputs": [
    {
     "name": "stdout",
     "output_type": "stream",
     "text": [
      "WARNING:tensorflow:From /usr/local/lib/python3.6/dist-packages/tensorflow/python/ops/math_ops.py:3066: to_int32 (from tensorflow.python.ops.math_ops) is deprecated and will be removed in a future version.\n",
      "Instructions for updating:\n",
      "Use tf.cast instead.\n",
      "Train on 60000 samples, validate on 10000 samples\n",
      "Epoch 1/12\n",
      "60000/60000 [==============================] - 28s 461us/step - loss: 0.0958 - acc: 0.9734 - val_loss: 0.0530 - val_acc: 0.9840\n",
      "Epoch 2/12\n",
      "60000/60000 [==============================] - 21s 357us/step - loss: 0.0360 - acc: 0.9892 - val_loss: 0.0580 - val_acc: 0.9823\n",
      "Epoch 3/12\n",
      "60000/60000 [==============================] - 21s 353us/step - loss: 0.0261 - acc: 0.9920 - val_loss: 0.0322 - val_acc: 0.9912\n",
      "Epoch 4/12\n",
      "60000/60000 [==============================] - 21s 351us/step - loss: 0.0186 - acc: 0.9947 - val_loss: 0.0263 - val_acc: 0.9916\n",
      "Epoch 5/12\n",
      "60000/60000 [==============================] - 21s 349us/step - loss: 0.0145 - acc: 0.9954 - val_loss: 0.0434 - val_acc: 0.9868\n",
      "Epoch 6/12\n",
      "60000/60000 [==============================] - 21s 349us/step - loss: 0.0116 - acc: 0.9965 - val_loss: 0.0308 - val_acc: 0.9906\n",
      "Epoch 7/12\n",
      "60000/60000 [==============================] - 21s 349us/step - loss: 0.0102 - acc: 0.9969 - val_loss: 0.0271 - val_acc: 0.9921\n",
      "Epoch 8/12\n",
      "60000/60000 [==============================] - 21s 349us/step - loss: 0.0082 - acc: 0.9974 - val_loss: 0.0325 - val_acc: 0.9893\n",
      "Epoch 9/12\n",
      "60000/60000 [==============================] - 21s 350us/step - loss: 0.0079 - acc: 0.9974 - val_loss: 0.0279 - val_acc: 0.9908\n",
      "Epoch 10/12\n",
      "60000/60000 [==============================] - 21s 351us/step - loss: 0.0052 - acc: 0.9984 - val_loss: 0.0280 - val_acc: 0.9908\n",
      "Epoch 11/12\n",
      "60000/60000 [==============================] - 21s 351us/step - loss: 0.0053 - acc: 0.9981 - val_loss: 0.0283 - val_acc: 0.9918\n",
      "Epoch 12/12\n",
      "60000/60000 [==============================] - 21s 352us/step - loss: 0.0050 - acc: 0.9984 - val_loss: 0.0238 - val_acc: 0.9929\n",
      "10000/10000 [==============================] - 2s 152us/step\n",
      "Test loss: 0.023751158460532315\n",
      "Test accuracy: 0.9929\n"
     ]
    }
   ],
   "source": [
    "history=model1.fit(x_train, y_train,batch_size=batch_size,epochs=epochs,validation_data=(x_test, y_test))\n",
    "score = model1.evaluate(x_test, y_test)\n",
    "print('Test loss:', score[0])\n",
    "print('Test accuracy:', score[1])\n"
   ]
  },
  {
   "cell_type": "code",
   "execution_count": 0,
   "metadata": {
    "colab": {
     "base_uri": "https://localhost:8080/",
     "height": 364
    },
    "colab_type": "code",
    "id": "bRif6kh-1b7i",
    "outputId": "0e3491c5-cd09-488f-adaa-8039aff7b5b7"
   },
   "outputs": [
    {
     "data": {
      "image/png": "[encoded data removed]",
      "text/plain": [
       "<Figure size 576x396 with 1 Axes>"
      ]
     },
     "metadata": {
      "tags": []
     },
     "output_type": "display_data"
    }
   ],
   "source": [
    "import matplotlib.pyplot as plt\n",
    "x = list(range(1,epochs+1))\n",
    "vy = history.history['val_loss']\n",
    "ty = history.history['loss']\n",
    "plt.plot(x, vy, 'b', label=\"Validation Loss\")\n",
    "plt.plot(x, ty, 'r', label=\"Train Loss\")\n",
    "plt.legend()\n",
    "plt.xlabel('epoch')\n",
    "plt.ylabel('Categorical Crossentropy Loss')\n",
    "plt.grid()"
   ]
  },
  {
   "cell_type": "markdown",
   "metadata": {},
   "source": [
    "#### Model 1 with drop rate 0.5"
   ]
  },
  {
   "cell_type": "code",
   "execution_count": 0,
   "metadata": {
    "colab": {
     "base_uri": "https://localhost:8080/",
     "height": 442
    },
    "colab_type": "code",
    "id": "uGP339Xi3rHN",
    "outputId": "43b52b7e-ec73-4213-cf79-e56aeb5aa871"
   },
   "outputs": [
    {
     "name": "stdout",
     "output_type": "stream",
     "text": [
      "_________________________________________________________________\n",
      "Layer (type)                 Output Shape              Param #   \n",
      "=================================================================\n",
      "conv2d_4 (Conv2D)            (None, 28, 28, 25)        250       \n",
      "_________________________________________________________________\n",
      "conv2d_5 (Conv2D)            (None, 28, 28, 50)        11300     \n",
      "_________________________________________________________________\n",
      "conv2d_6 (Conv2D)            (None, 28, 28, 100)       45100     \n",
      "_________________________________________________________________\n",
      "dropout_2 (Dropout)          (None, 28, 28, 100)       0         \n",
      "_________________________________________________________________\n",
      "max_pooling2d_2 (MaxPooling2 (None, 7, 7, 100)         0         \n",
      "_________________________________________________________________\n",
      "flatten_2 (Flatten)          (None, 4900)              0         \n",
      "_________________________________________________________________\n",
      "dense_3 (Dense)              (None, 100)               490100    \n",
      "_________________________________________________________________\n",
      "batch_normalization_2 (Batch (None, 100)               400       \n",
      "_________________________________________________________________\n",
      "dense_4 (Dense)              (None, 10)                1010      \n",
      "=================================================================\n",
      "Total params: 548,160\n",
      "Trainable params: 547,960\n",
      "Non-trainable params: 200\n",
      "_________________________________________________________________\n"
     ]
    }
   ],
   "source": [
    "model1= Sequential()\n",
    "model1.add(Conv2D(25, kernel_size=(3, 3),activation='relu',input_shape=input_shape,padding='same'))\n",
    "model1.add(Conv2D(50, (3, 3), activation='relu',padding='same'))\n",
    "model1.add(Conv2D(100, (3, 3), activation='relu',padding='same'))\n",
    "model1.add(Dropout(0.5))\n",
    "model1.add(MaxPooling2D(pool_size=(4, 4)))\n",
    "model1.add(Flatten())\n",
    "model1.add(Dense(100, activation='relu'))\n",
    "model1.add(BatchNormalization())\n",
    "model1.add(Dense(num_classes, activation='softmax'))\n",
    "model1.compile(optimizer='adam', loss='categorical_crossentropy', metrics=['accuracy'])\n",
    "model1.summary()"
   ]
  },
  {
   "cell_type": "code",
   "execution_count": 0,
   "metadata": {
    "colab": {
     "base_uri": "https://localhost:8080/",
     "height": 493
    },
    "colab_type": "code",
    "id": "wX3ucB6U3waY",
    "outputId": "365e8065-d11a-42f3-d55b-89f04552f864"
   },
   "outputs": [
    {
     "name": "stdout",
     "output_type": "stream",
     "text": [
      "Train on 60000 samples, validate on 10000 samples\n",
      "Epoch 1/12\n",
      "60000/60000 [==============================] - 22s 364us/step - loss: 0.1035 - acc: 0.9706 - val_loss: 0.1055 - val_acc: 0.9788\n",
      "Epoch 2/12\n",
      "60000/60000 [==============================] - 21s 351us/step - loss: 0.0392 - acc: 0.9880 - val_loss: 0.0678 - val_acc: 0.9832\n",
      "Epoch 3/12\n",
      "60000/60000 [==============================] - 21s 350us/step - loss: 0.0284 - acc: 0.9918 - val_loss: 0.0767 - val_acc: 0.9825\n",
      "Epoch 4/12\n",
      "60000/60000 [==============================] - 21s 353us/step - loss: 0.0212 - acc: 0.9937 - val_loss: 0.0564 - val_acc: 0.9872\n",
      "Epoch 5/12\n",
      "60000/60000 [==============================] - 21s 351us/step - loss: 0.0176 - acc: 0.9944 - val_loss: 0.0745 - val_acc: 0.9788\n",
      "Epoch 6/12\n",
      "60000/60000 [==============================] - 21s 351us/step - loss: 0.0158 - acc: 0.9949 - val_loss: 0.0503 - val_acc: 0.9862\n",
      "Epoch 7/12\n",
      "60000/60000 [==============================] - 21s 351us/step - loss: 0.0132 - acc: 0.9960 - val_loss: 0.0386 - val_acc: 0.9894\n",
      "Epoch 8/12\n",
      "60000/60000 [==============================] - 21s 353us/step - loss: 0.0104 - acc: 0.9968 - val_loss: 0.0424 - val_acc: 0.9876\n",
      "Epoch 9/12\n",
      "60000/60000 [==============================] - 21s 356us/step - loss: 0.0093 - acc: 0.9971 - val_loss: 0.0363 - val_acc: 0.9898\n",
      "Epoch 10/12\n",
      "60000/60000 [==============================] - 21s 348us/step - loss: 0.0099 - acc: 0.9967 - val_loss: 0.0343 - val_acc: 0.9898\n",
      "Epoch 11/12\n",
      "60000/60000 [==============================] - 21s 348us/step - loss: 0.0065 - acc: 0.9980 - val_loss: 0.0362 - val_acc: 0.9900\n",
      "Epoch 12/12\n",
      "60000/60000 [==============================] - 22s 363us/step - loss: 0.0075 - acc: 0.9975 - val_loss: 0.0366 - val_acc: 0.9891\n",
      "10000/10000 [==============================] - 2s 172us/step\n",
      "Test loss: 0.03656977531374432\n",
      "Test accuracy: 0.9891\n"
     ]
    }
   ],
   "source": [
    "history=model1.fit(x_train, y_train,batch_size=batch_size,epochs=epochs,validation_data=(x_test, y_test))\n",
    "score = model1.evaluate(x_test, y_test)\n",
    "print('Test loss:', score[0])\n",
    "print('Test accuracy:', score[1])\n"
   ]
  },
  {
   "cell_type": "code",
   "execution_count": 0,
   "metadata": {
    "colab": {
     "base_uri": "https://localhost:8080/",
     "height": 361
    },
    "colab_type": "code",
    "id": "Yg79GZSw3xY4",
    "outputId": "8f0a7528-8d34-4502-fffa-96e4bc47064f"
   },
   "outputs": [
    {
     "data": {
      "image/png": "[encoded data removed]",
      "text/plain": [
       "<Figure size 576x396 with 1 Axes>"
      ]
     },
     "metadata": {
      "tags": []
     },
     "output_type": "display_data"
    }
   ],
   "source": [
    "import matplotlib.pyplot as plt\n",
    "x = list(range(1,epochs+1))\n",
    "vy = history.history['val_loss']\n",
    "ty = history.history['loss']\n",
    "plt.plot(x, vy, 'b', label=\"Validation Loss\")\n",
    "plt.plot(x, ty, 'r', label=\"Train Loss\")\n",
    "plt.legend()\n",
    "plt.xlabel('epoch')\n",
    "plt.ylabel('Categorical Crossentropy Loss')\n",
    "plt.grid()"
   ]
  },
  {
   "cell_type": "markdown",
   "metadata": {},
   "source": [
    "#### Model 1 with drop rate 0.9"
   ]
  },
  {
   "cell_type": "code",
   "execution_count": 0,
   "metadata": {
    "colab": {
     "base_uri": "https://localhost:8080/",
     "height": 442
    },
    "colab_type": "code",
    "id": "rroxUUvouc_7",
    "outputId": "1676eb0f-b781-46fa-f1b2-2dc6a4c96fbc"
   },
   "outputs": [
    {
     "name": "stdout",
     "output_type": "stream",
     "text": [
      "_________________________________________________________________\n",
      "Layer (type)                 Output Shape              Param #   \n",
      "=================================================================\n",
      "conv2d_7 (Conv2D)            (None, 28, 28, 25)        250       \n",
      "_________________________________________________________________\n",
      "conv2d_8 (Conv2D)            (None, 28, 28, 50)        11300     \n",
      "_________________________________________________________________\n",
      "conv2d_9 (Conv2D)            (None, 28, 28, 100)       45100     \n",
      "_________________________________________________________________\n",
      "dropout_3 (Dropout)          (None, 28, 28, 100)       0         \n",
      "_________________________________________________________________\n",
      "max_pooling2d_3 (MaxPooling2 (None, 7, 7, 100)         0         \n",
      "_________________________________________________________________\n",
      "flatten_3 (Flatten)          (None, 4900)              0         \n",
      "_________________________________________________________________\n",
      "dense_5 (Dense)              (None, 100)               490100    \n",
      "_________________________________________________________________\n",
      "batch_normalization_3 (Batch (None, 100)               400       \n",
      "_________________________________________________________________\n",
      "dense_6 (Dense)              (None, 10)                1010      \n",
      "=================================================================\n",
      "Total params: 548,160\n",
      "Trainable params: 547,960\n",
      "Non-trainable params: 200\n",
      "_________________________________________________________________\n"
     ]
    }
   ],
   "source": [
    "model1= Sequential()\n",
    "model1.add(Conv2D(25, kernel_size=(3, 3),activation='relu',input_shape=input_shape,padding='same'))\n",
    "model1.add(Conv2D(50, (3, 3), activation='relu',padding='same'))\n",
    "model1.add(Conv2D(100, (3, 3), activation='relu',padding='same'))\n",
    "model1.add(Dropout(0.9))\n",
    "model1.add(MaxPooling2D(pool_size=(4, 4)))\n",
    "model1.add(Flatten())\n",
    "model1.add(Dense(100, activation='relu'))\n",
    "model1.add(BatchNormalization())\n",
    "model1.add(Dense(num_classes, activation='softmax'))\n",
    "model1.compile(optimizer='adam', loss='categorical_crossentropy', metrics=['accuracy'])\n",
    "model1.summary()"
   ]
  },
  {
   "cell_type": "code",
   "execution_count": 0,
   "metadata": {
    "colab": {
     "base_uri": "https://localhost:8080/",
     "height": 493
    },
    "colab_type": "code",
    "id": "X0Hg2pCUudNw",
    "outputId": "a580816c-1982-48a3-849e-e723da5eb2a7"
   },
   "outputs": [
    {
     "name": "stdout",
     "output_type": "stream",
     "text": [
      "Train on 60000 samples, validate on 10000 samples\n",
      "Epoch 1/12\n",
      "60000/60000 [==============================] - 23s 382us/step - loss: 0.1421 - acc: 0.9582 - val_loss: 1.3665 - val_acc: 0.4419\n",
      "Epoch 2/12\n",
      "60000/60000 [==============================] - 22s 363us/step - loss: 0.0555 - acc: 0.9832 - val_loss: 1.5451 - val_acc: 0.3344\n",
      "Epoch 3/12\n",
      "60000/60000 [==============================] - 22s 362us/step - loss: 0.0433 - acc: 0.9863 - val_loss: 1.4210 - val_acc: 0.3085\n",
      "Epoch 4/12\n",
      "60000/60000 [==============================] - 22s 364us/step - loss: 0.0375 - acc: 0.9884 - val_loss: 1.2520 - val_acc: 0.3363\n",
      "Epoch 5/12\n",
      "60000/60000 [==============================] - 22s 362us/step - loss: 0.0311 - acc: 0.9901 - val_loss: 1.3883 - val_acc: 0.2992\n",
      "Epoch 6/12\n",
      "60000/60000 [==============================] - 22s 365us/step - loss: 0.0279 - acc: 0.9914 - val_loss: 1.1210 - val_acc: 0.4031\n",
      "Epoch 7/12\n",
      "60000/60000 [==============================] - 22s 362us/step - loss: 0.0261 - acc: 0.9917 - val_loss: 1.2291 - val_acc: 0.3612\n",
      "Epoch 8/12\n",
      "60000/60000 [==============================] - 22s 364us/step - loss: 0.0245 - acc: 0.9919 - val_loss: 1.2570 - val_acc: 0.3509\n",
      "Epoch 9/12\n",
      "60000/60000 [==============================] - 21s 358us/step - loss: 0.0222 - acc: 0.9929 - val_loss: 0.9784 - val_acc: 0.5007\n",
      "Epoch 10/12\n",
      "60000/60000 [==============================] - 21s 352us/step - loss: 0.0194 - acc: 0.9938 - val_loss: 0.9786 - val_acc: 0.5014\n",
      "Epoch 11/12\n",
      "60000/60000 [==============================] - 21s 352us/step - loss: 0.0184 - acc: 0.9938 - val_loss: 0.9296 - val_acc: 0.5712\n",
      "Epoch 12/12\n",
      "60000/60000 [==============================] - 21s 350us/step - loss: 0.0188 - acc: 0.9939 - val_loss: 0.7341 - val_acc: 0.7335\n",
      "10000/10000 [==============================] - 1s 150us/step\n",
      "Test loss: 0.7340677272796631\n",
      "Test accuracy: 0.7335\n"
     ]
    }
   ],
   "source": [
    "history=model1.fit(x_train, y_train,batch_size=batch_size,epochs=epochs,validation_data=(x_test, y_test))\n",
    "score = model1.evaluate(x_test, y_test)\n",
    "print('Test loss:', score[0])\n",
    "print('Test accuracy:', score[1])\n"
   ]
  },
  {
   "cell_type": "code",
   "execution_count": 0,
   "metadata": {
    "colab": {
     "base_uri": "https://localhost:8080/",
     "height": 361
    },
    "colab_type": "code",
    "id": "q0s_RCg-udbs",
    "outputId": "af41acf4-64a9-42fa-d6ac-b487e69d6e26"
   },
   "outputs": [
    {
     "data": {
      "image/png": "[encoded data removed]",
      "text/plain": [
       "<Figure size 576x396 with 1 Axes>"
      ]
     },
     "metadata": {
      "tags": []
     },
     "output_type": "display_data"
    }
   ],
   "source": [
    "import matplotlib.pyplot as plt\n",
    "x = list(range(1,epochs+1))\n",
    "vy = history.history['val_loss']\n",
    "ty = history.history['loss']\n",
    "plt.plot(x, vy, 'b', label=\"Validation Loss\")\n",
    "plt.plot(x, ty, 'r', label=\"Train Loss\")\n",
    "plt.legend()\n",
    "plt.xlabel('epoch')\n",
    "plt.ylabel('Categorical Crossentropy Loss')\n",
    "plt.grid()"
   ]
  },
  {
   "cell_type": "markdown",
   "metadata": {},
   "source": [
    "#### Model 2 with drop rate 0.3"
   ]
  },
  {
   "cell_type": "code",
   "execution_count": 0,
   "metadata": {
    "colab": {
     "base_uri": "https://localhost:8080/",
     "height": 476
    },
    "colab_type": "code",
    "id": "KibvC3uMGsnV",
    "outputId": "31165b87-4e6e-4446-e80c-037d3dd189b0"
   },
   "outputs": [
    {
     "name": "stdout",
     "output_type": "stream",
     "text": [
      "_________________________________________________________________\n",
      "Layer (type)                 Output Shape              Param #   \n",
      "=================================================================\n",
      "conv2d_10 (Conv2D)           (None, 28, 28, 50)        1300      \n",
      "_________________________________________________________________\n",
      "conv2d_11 (Conv2D)           (None, 28, 28, 100)       125100    \n",
      "_________________________________________________________________\n",
      "conv2d_12 (Conv2D)           (None, 28, 28, 150)       375150    \n",
      "_________________________________________________________________\n",
      "dropout_4 (Dropout)          (None, 28, 28, 150)       0         \n",
      "_________________________________________________________________\n",
      "conv2d_13 (Conv2D)           (None, 22, 22, 200)       1470200   \n",
      "_________________________________________________________________\n",
      "max_pooling2d_4 (MaxPooling2 (None, 2, 2, 200)         0         \n",
      "_________________________________________________________________\n",
      "flatten_4 (Flatten)          (None, 800)               0         \n",
      "_________________________________________________________________\n",
      "dense_7 (Dense)              (None, 150)               120150    \n",
      "_________________________________________________________________\n",
      "batch_normalization_4 (Batch (None, 150)               600       \n",
      "_________________________________________________________________\n",
      "dense_8 (Dense)              (None, 10)                1510      \n",
      "=================================================================\n",
      "Total params: 2,094,010\n",
      "Trainable params: 2,093,710\n",
      "Non-trainable params: 300\n",
      "_________________________________________________________________\n"
     ]
    }
   ],
   "source": [
    "model2= Sequential()\n",
    "model2.add(Conv2D(50, kernel_size=(5, 5),activation='relu',input_shape=input_shape,padding='same'))\n",
    "model2.add(Conv2D(100, (5, 5), activation='relu',padding='same'))\n",
    "model2.add(Conv2D(150, (5, 5), activation='relu',padding='same'))\n",
    "model2.add(Dropout(0.3))\n",
    "model2.add(Conv2D(200, (7, 7), activation='relu'))\n",
    "model2.add(MaxPooling2D(pool_size=(8, 8)))\n",
    "model2.add(Flatten())\n",
    "model2.add(Dense(150, activation='relu'))\n",
    "model2.add(BatchNormalization())\n",
    "model2.add(Dense(num_classes, activation='softmax'))\n",
    "model2.summary()"
   ]
  },
  {
   "cell_type": "code",
   "execution_count": 0,
   "metadata": {
    "colab": {
     "base_uri": "https://localhost:8080/",
     "height": 493
    },
    "colab_type": "code",
    "id": "bsw_Tl902Dqn",
    "outputId": "d54f313c-3688-476e-a27e-cebad50dfa08"
   },
   "outputs": [
    {
     "name": "stdout",
     "output_type": "stream",
     "text": [
      "Train on 60000 samples, validate on 10000 samples\n",
      "Epoch 1/12\n",
      "60000/60000 [==============================] - 77s 1ms/step - loss: 0.0880 - acc: 0.9756 - val_loss: 0.0692 - val_acc: 0.9777\n",
      "Epoch 2/12\n",
      "60000/60000 [==============================] - 72s 1ms/step - loss: 0.0300 - acc: 0.9910 - val_loss: 0.0562 - val_acc: 0.9821\n",
      "Epoch 3/12\n",
      "60000/60000 [==============================] - 72s 1ms/step - loss: 0.0231 - acc: 0.9930 - val_loss: 0.0534 - val_acc: 0.9832\n",
      "Epoch 4/12\n",
      "60000/60000 [==============================] - 72s 1ms/step - loss: 0.0179 - acc: 0.9948 - val_loss: 0.0351 - val_acc: 0.9898\n",
      "Epoch 5/12\n",
      "60000/60000 [==============================] - 72s 1ms/step - loss: 0.0162 - acc: 0.9950 - val_loss: 0.0610 - val_acc: 0.9808\n",
      "Epoch 6/12\n",
      "60000/60000 [==============================] - 73s 1ms/step - loss: 0.0143 - acc: 0.9954 - val_loss: 0.0263 - val_acc: 0.9926\n",
      "Epoch 7/12\n",
      "60000/60000 [==============================] - 73s 1ms/step - loss: 0.0115 - acc: 0.9965 - val_loss: 0.0197 - val_acc: 0.9934\n",
      "Epoch 8/12\n",
      "60000/60000 [==============================] - 73s 1ms/step - loss: 0.0095 - acc: 0.9972 - val_loss: 0.0210 - val_acc: 0.9934\n",
      "Epoch 9/12\n",
      "60000/60000 [==============================] - 72s 1ms/step - loss: 0.0086 - acc: 0.9976 - val_loss: 0.0242 - val_acc: 0.9926\n",
      "Epoch 10/12\n",
      "60000/60000 [==============================] - 72s 1ms/step - loss: 0.0069 - acc: 0.9979 - val_loss: 0.0261 - val_acc: 0.9924\n",
      "Epoch 11/12\n",
      "60000/60000 [==============================] - 72s 1ms/step - loss: 0.0076 - acc: 0.9976 - val_loss: 0.0240 - val_acc: 0.9925\n",
      "Epoch 12/12\n",
      "60000/60000 [==============================] - 72s 1ms/step - loss: 0.0069 - acc: 0.9980 - val_loss: 0.0239 - val_acc: 0.9922\n",
      "10000/10000 [==============================] - 5s 459us/step\n",
      "Test loss: 0.023881567634292878\n",
      "Test accuracy: 0.9922\n"
     ]
    }
   ],
   "source": [
    "model2.compile(optimizer='adam', loss='categorical_crossentropy', metrics=['accuracy'])\n",
    "history=model2.fit(x_train, y_train,batch_size=batch_size,epochs=epochs,validation_data=(x_test, y_test))\n",
    "score = model2.evaluate(x_test, y_test)\n",
    "print('Test loss:', score[0])\n",
    "print('Test accuracy:', score[1])\n"
   ]
  },
  {
   "cell_type": "code",
   "execution_count": 0,
   "metadata": {
    "colab": {
     "base_uri": "https://localhost:8080/",
     "height": 361
    },
    "colab_type": "code",
    "id": "_s64Ac-F2L5N",
    "outputId": "95cf4c5f-80ca-489a-ca63-2041c1919b38"
   },
   "outputs": [
    {
     "data": {
      "image/png": "[encoded data removed]",
      "text/plain": [
       "<Figure size 576x396 with 1 Axes>"
      ]
     },
     "metadata": {
      "tags": []
     },
     "output_type": "display_data"
    }
   ],
   "source": [
    "x = list(range(1,epochs+1))\n",
    "vy = history.history['val_loss']\n",
    "ty = history.history['loss']\n",
    "plt.plot(x, vy, 'b', label=\"Validation Loss\")\n",
    "plt.plot(x, ty, 'r', label=\"Train Loss\")\n",
    "plt.legend()\n",
    "plt.xlabel('epoch')\n",
    "plt.ylabel('Categorical Crossentropy Loss')\n",
    "plt.grid()"
   ]
  },
  {
   "cell_type": "markdown",
   "metadata": {},
   "source": [
    "#### Model 2 with drop rate 0.5"
   ]
  },
  {
   "cell_type": "code",
   "execution_count": 0,
   "metadata": {
    "colab": {
     "base_uri": "https://localhost:8080/",
     "height": 476
    },
    "colab_type": "code",
    "id": "ynTO_TbLuo3w",
    "outputId": "d5787bcd-d862-41cf-aad8-b748a765edef"
   },
   "outputs": [
    {
     "name": "stdout",
     "output_type": "stream",
     "text": [
      "_________________________________________________________________\n",
      "Layer (type)                 Output Shape              Param #   \n",
      "=================================================================\n",
      "conv2d_14 (Conv2D)           (None, 28, 28, 50)        1300      \n",
      "_________________________________________________________________\n",
      "conv2d_15 (Conv2D)           (None, 28, 28, 100)       125100    \n",
      "_________________________________________________________________\n",
      "conv2d_16 (Conv2D)           (None, 28, 28, 150)       375150    \n",
      "_________________________________________________________________\n",
      "dropout_5 (Dropout)          (None, 28, 28, 150)       0         \n",
      "_________________________________________________________________\n",
      "conv2d_17 (Conv2D)           (None, 22, 22, 200)       1470200   \n",
      "_________________________________________________________________\n",
      "max_pooling2d_5 (MaxPooling2 (None, 2, 2, 200)         0         \n",
      "_________________________________________________________________\n",
      "flatten_5 (Flatten)          (None, 800)               0         \n",
      "_________________________________________________________________\n",
      "dense_9 (Dense)              (None, 150)               120150    \n",
      "_________________________________________________________________\n",
      "batch_normalization_5 (Batch (None, 150)               600       \n",
      "_________________________________________________________________\n",
      "dense_10 (Dense)             (None, 10)                1510      \n",
      "=================================================================\n",
      "Total params: 2,094,010\n",
      "Trainable params: 2,093,710\n",
      "Non-trainable params: 300\n",
      "_________________________________________________________________\n"
     ]
    }
   ],
   "source": [
    "model2= Sequential()\n",
    "model2.add(Conv2D(50, kernel_size=(5, 5),activation='relu',input_shape=input_shape,padding='same'))\n",
    "model2.add(Conv2D(100, (5, 5), activation='relu',padding='same'))\n",
    "model2.add(Conv2D(150, (5, 5), activation='relu',padding='same'))\n",
    "model2.add(Dropout(0.5))\n",
    "model2.add(Conv2D(200, (7, 7), activation='relu'))\n",
    "model2.add(MaxPooling2D(pool_size=(8, 8)))\n",
    "model2.add(Flatten())\n",
    "model2.add(Dense(150, activation='relu'))\n",
    "model2.add(BatchNormalization())\n",
    "model2.add(Dense(num_classes, activation='softmax'))\n",
    "model2.summary()"
   ]
  },
  {
   "cell_type": "code",
   "execution_count": 0,
   "metadata": {
    "colab": {
     "base_uri": "https://localhost:8080/",
     "height": 493
    },
    "colab_type": "code",
    "id": "B9koaOwwupD-",
    "outputId": "1ecf3cb2-2fb1-4164-897f-b04558cc1b0c"
   },
   "outputs": [
    {
     "name": "stdout",
     "output_type": "stream",
     "text": [
      "Train on 60000 samples, validate on 10000 samples\n",
      "Epoch 1/12\n",
      "60000/60000 [==============================] - 74s 1ms/step - loss: 0.0977 - acc: 0.9742 - val_loss: 0.0465 - val_acc: 0.9859\n",
      "Epoch 2/12\n",
      "60000/60000 [==============================] - 73s 1ms/step - loss: 0.0338 - acc: 0.9899 - val_loss: 0.0339 - val_acc: 0.9884\n",
      "Epoch 3/12\n",
      "60000/60000 [==============================] - 73s 1ms/step - loss: 0.0251 - acc: 0.9928 - val_loss: 0.0277 - val_acc: 0.9911\n",
      "Epoch 4/12\n",
      "60000/60000 [==============================] - 73s 1ms/step - loss: 0.0208 - acc: 0.9938 - val_loss: 0.0276 - val_acc: 0.9924\n",
      "Epoch 5/12\n",
      "60000/60000 [==============================] - 73s 1ms/step - loss: 0.0186 - acc: 0.9942 - val_loss: 0.0520 - val_acc: 0.9829\n",
      "Epoch 6/12\n",
      "60000/60000 [==============================] - 73s 1ms/step - loss: 0.0145 - acc: 0.9956 - val_loss: 0.0223 - val_acc: 0.9926\n",
      "Epoch 7/12\n",
      "60000/60000 [==============================] - 72s 1ms/step - loss: 0.0139 - acc: 0.9958 - val_loss: 0.0325 - val_acc: 0.9896\n",
      "Epoch 8/12\n",
      "60000/60000 [==============================] - 72s 1ms/step - loss: 0.0125 - acc: 0.9961 - val_loss: 0.0290 - val_acc: 0.9910\n",
      "Epoch 9/12\n",
      "60000/60000 [==============================] - 72s 1ms/step - loss: 0.0110 - acc: 0.9964 - val_loss: 0.0250 - val_acc: 0.9920\n",
      "Epoch 10/12\n",
      "60000/60000 [==============================] - 72s 1ms/step - loss: 0.0098 - acc: 0.9969 - val_loss: 0.0228 - val_acc: 0.9931\n",
      "Epoch 11/12\n",
      "60000/60000 [==============================] - 72s 1ms/step - loss: 0.0127 - acc: 0.9957 - val_loss: 0.0245 - val_acc: 0.9924\n",
      "Epoch 12/12\n",
      "60000/60000 [==============================] - 72s 1ms/step - loss: 0.0091 - acc: 0.9971 - val_loss: 0.0258 - val_acc: 0.9923\n",
      "10000/10000 [==============================] - 4s 435us/step\n",
      "Test loss: 0.025843297203577822\n",
      "Test accuracy: 0.9923\n"
     ]
    }
   ],
   "source": [
    "model2.compile(optimizer='adam', loss='categorical_crossentropy', metrics=['accuracy'])\n",
    "history=model2.fit(x_train, y_train,batch_size=batch_size,epochs=epochs,validation_data=(x_test, y_test))\n",
    "score = model2.evaluate(x_test, y_test)\n",
    "print('Test loss:', score[0])\n",
    "print('Test accuracy:', score[1])\n"
   ]
  },
  {
   "cell_type": "code",
   "execution_count": 0,
   "metadata": {
    "colab": {
     "base_uri": "https://localhost:8080/",
     "height": 361
    },
    "colab_type": "code",
    "id": "PSIEzXgfupRo",
    "outputId": "2a0860c0-7872-48b6-c374-e02c9987f177"
   },
   "outputs": [
    {
     "data": {
      "image/png": "[encoded data removed]",
      "text/plain": [
       "<Figure size 576x396 with 1 Axes>"
      ]
     },
     "metadata": {
      "tags": []
     },
     "output_type": "display_data"
    }
   ],
   "source": [
    "x = list(range(1,epochs+1))\n",
    "vy = history.history['val_loss']\n",
    "ty = history.history['loss']\n",
    "plt.plot(x, vy, 'b', label=\"Validation Loss\")\n",
    "plt.plot(x, ty, 'r', label=\"Train Loss\")\n",
    "plt.legend()\n",
    "plt.xlabel('epoch')\n",
    "plt.ylabel('Categorical Crossentropy Loss')\n",
    "plt.grid()"
   ]
  },
  {
   "cell_type": "markdown",
   "metadata": {},
   "source": [
    "#### Model 2 with drop rate 0.9"
   ]
  },
  {
   "cell_type": "code",
   "execution_count": 0,
   "metadata": {
    "colab": {
     "base_uri": "https://localhost:8080/",
     "height": 476
    },
    "colab_type": "code",
    "id": "p5i3mY7quph7",
    "outputId": "c4e4620d-6b16-4511-87c6-a634e1ed5174"
   },
   "outputs": [
    {
     "name": "stdout",
     "output_type": "stream",
     "text": [
      "_________________________________________________________________\n",
      "Layer (type)                 Output Shape              Param #   \n",
      "=================================================================\n",
      "conv2d_18 (Conv2D)           (None, 28, 28, 50)        1300      \n",
      "_________________________________________________________________\n",
      "conv2d_19 (Conv2D)           (None, 28, 28, 100)       125100    \n",
      "_________________________________________________________________\n",
      "conv2d_20 (Conv2D)           (None, 28, 28, 150)       375150    \n",
      "_________________________________________________________________\n",
      "dropout_6 (Dropout)          (None, 28, 28, 150)       0         \n",
      "_________________________________________________________________\n",
      "conv2d_21 (Conv2D)           (None, 22, 22, 200)       1470200   \n",
      "_________________________________________________________________\n",
      "max_pooling2d_6 (MaxPooling2 (None, 2, 2, 200)         0         \n",
      "_________________________________________________________________\n",
      "flatten_6 (Flatten)          (None, 800)               0         \n",
      "_________________________________________________________________\n",
      "dense_11 (Dense)             (None, 150)               120150    \n",
      "_________________________________________________________________\n",
      "batch_normalization_6 (Batch (None, 150)               600       \n",
      "_________________________________________________________________\n",
      "dense_12 (Dense)             (None, 10)                1510      \n",
      "=================================================================\n",
      "Total params: 2,094,010\n",
      "Trainable params: 2,093,710\n",
      "Non-trainable params: 300\n",
      "_________________________________________________________________\n"
     ]
    }
   ],
   "source": [
    "model2= Sequential()\n",
    "model2.add(Conv2D(50, kernel_size=(5, 5),activation='relu',input_shape=input_shape,padding='same'))\n",
    "model2.add(Conv2D(100, (5, 5), activation='relu',padding='same'))\n",
    "model2.add(Conv2D(150, (5, 5), activation='relu',padding='same'))\n",
    "model2.add(Dropout(0.9))\n",
    "model2.add(Conv2D(200, (7, 7), activation='relu'))\n",
    "model2.add(MaxPooling2D(pool_size=(8, 8)))\n",
    "model2.add(Flatten())\n",
    "model2.add(Dense(150, activation='relu'))\n",
    "model2.add(BatchNormalization())\n",
    "model2.add(Dense(num_classes, activation='softmax'))\n",
    "model2.summary()"
   ]
  },
  {
   "cell_type": "code",
   "execution_count": 0,
   "metadata": {
    "colab": {
     "base_uri": "https://localhost:8080/",
     "height": 493
    },
    "colab_type": "code",
    "id": "s3cPrFEMuprT",
    "outputId": "55821da5-f5ab-4aa0-8585-1071af7cd978"
   },
   "outputs": [
    {
     "name": "stdout",
     "output_type": "stream",
     "text": [
      "Train on 60000 samples, validate on 10000 samples\n",
      "Epoch 1/12\n",
      "60000/60000 [==============================] - 74s 1ms/step - loss: 0.1837 - acc: 0.9459 - val_loss: 0.1278 - val_acc: 0.9649\n",
      "Epoch 2/12\n",
      "60000/60000 [==============================] - 73s 1ms/step - loss: 0.0523 - acc: 0.9847 - val_loss: 0.1836 - val_acc: 0.9442\n",
      "Epoch 3/12\n",
      "60000/60000 [==============================] - 73s 1ms/step - loss: 0.0409 - acc: 0.9879 - val_loss: 0.0845 - val_acc: 0.9758\n",
      "Epoch 4/12\n",
      "60000/60000 [==============================] - 72s 1ms/step - loss: 0.0349 - acc: 0.9893 - val_loss: 0.1161 - val_acc: 0.9645\n",
      "Epoch 5/12\n",
      "60000/60000 [==============================] - 72s 1ms/step - loss: 0.0301 - acc: 0.9906 - val_loss: 0.1549 - val_acc: 0.9558\n",
      "Epoch 6/12\n",
      "60000/60000 [==============================] - 72s 1ms/step - loss: 0.0288 - acc: 0.9910 - val_loss: 0.1477 - val_acc: 0.9502\n",
      "Epoch 7/12\n",
      "60000/60000 [==============================] - 72s 1ms/step - loss: 0.0263 - acc: 0.9917 - val_loss: 0.2808 - val_acc: 0.9029\n",
      "Epoch 8/12\n",
      "60000/60000 [==============================] - 72s 1ms/step - loss: 0.0248 - acc: 0.9924 - val_loss: 0.1752 - val_acc: 0.9476\n",
      "Epoch 9/12\n",
      "60000/60000 [==============================] - 72s 1ms/step - loss: 0.0226 - acc: 0.9928 - val_loss: 0.3539 - val_acc: 0.9184\n",
      "Epoch 10/12\n",
      "60000/60000 [==============================] - 73s 1ms/step - loss: 0.0204 - acc: 0.9935 - val_loss: 0.3835 - val_acc: 0.9387\n",
      "Epoch 11/12\n",
      "60000/60000 [==============================] - 73s 1ms/step - loss: 0.0205 - acc: 0.9936 - val_loss: 0.4179 - val_acc: 0.9300\n",
      "Epoch 12/12\n",
      "60000/60000 [==============================] - 73s 1ms/step - loss: 0.0194 - acc: 0.9938 - val_loss: 0.3906 - val_acc: 0.9364\n",
      "10000/10000 [==============================] - 5s 460us/step\n",
      "Test loss: 0.3905929531939328\n",
      "Test accuracy: 0.9364\n"
     ]
    }
   ],
   "source": [
    "model2.compile(optimizer='adam', loss='categorical_crossentropy', metrics=['accuracy'])\n",
    "history=model2.fit(x_train, y_train,batch_size=batch_size,epochs=epochs,validation_data=(x_test, y_test))\n",
    "score = model2.evaluate(x_test, y_test)\n",
    "print('Test loss:', score[0])\n",
    "print('Test accuracy:', score[1])\n"
   ]
  },
  {
   "cell_type": "code",
   "execution_count": 0,
   "metadata": {
    "colab": {
     "base_uri": "https://localhost:8080/",
     "height": 361
    },
    "colab_type": "code",
    "id": "yWClD2GNup1H",
    "outputId": "9e0d0bb4-a71d-425a-87f9-2a787c269e3e"
   },
   "outputs": [
    {
     "data": {
      "image/png": "[encoded data removed]",
      "text/plain": [
       "<Figure size 576x396 with 1 Axes>"
      ]
     },
     "metadata": {
      "tags": []
     },
     "output_type": "display_data"
    }
   ],
   "source": [
    "x = list(range(1,epochs+1))\n",
    "vy = history.history['val_loss']\n",
    "ty = history.history['loss']\n",
    "plt.plot(x, vy, 'b', label=\"Validation Loss\")\n",
    "plt.plot(x, ty, 'r', label=\"Train Loss\")\n",
    "plt.legend()\n",
    "plt.xlabel('epoch')\n",
    "plt.ylabel('Categorical Crossentropy Loss')\n",
    "plt.grid()"
   ]
  },
  {
   "cell_type": "markdown",
   "metadata": {},
   "source": [
    "#### Model 3 with drop rate 0.5"
   ]
  },
  {
   "cell_type": "code",
   "execution_count": 0,
   "metadata": {
    "colab": {
     "base_uri": "https://localhost:8080/",
     "height": 680
    },
    "colab_type": "code",
    "id": "zTMv9nCNOtfZ",
    "outputId": "456bc8cd-9380-4a4b-d0ee-fe1d94e1c3fa"
   },
   "outputs": [
    {
     "name": "stdout",
     "output_type": "stream",
     "text": [
      "_________________________________________________________________\n",
      "Layer (type)                 Output Shape              Param #   \n",
      "=================================================================\n",
      "conv2d_22 (Conv2D)           (None, 28, 28, 50)        1300      \n",
      "_________________________________________________________________\n",
      "conv2d_23 (Conv2D)           (None, 28, 28, 100)       125100    \n",
      "_________________________________________________________________\n",
      "conv2d_24 (Conv2D)           (None, 28, 28, 150)       375150    \n",
      "_________________________________________________________________\n",
      "dropout_7 (Dropout)          (None, 28, 28, 150)       0         \n",
      "_________________________________________________________________\n",
      "conv2d_25 (Conv2D)           (None, 28, 28, 200)       750200    \n",
      "_________________________________________________________________\n",
      "max_pooling2d_7 (MaxPooling2 (None, 7, 7, 200)         0         \n",
      "_________________________________________________________________\n",
      "conv2d_26 (Conv2D)           (None, 7, 7, 250)         450250    \n",
      "_________________________________________________________________\n",
      "conv2d_27 (Conv2D)           (None, 7, 7, 300)         675300    \n",
      "_________________________________________________________________\n",
      "max_pooling2d_8 (MaxPooling2 (None, 1, 1, 300)         0         \n",
      "_________________________________________________________________\n",
      "batch_normalization_7 (Batch (None, 1, 1, 300)         1200      \n",
      "_________________________________________________________________\n",
      "flatten_7 (Flatten)          (None, 300)               0         \n",
      "_________________________________________________________________\n",
      "dense_13 (Dense)             (None, 150)               45150     \n",
      "_________________________________________________________________\n",
      "dropout_8 (Dropout)          (None, 150)               0         \n",
      "_________________________________________________________________\n",
      "dense_14 (Dense)             (None, 75)                11325     \n",
      "_________________________________________________________________\n",
      "batch_normalization_8 (Batch (None, 75)                300       \n",
      "_________________________________________________________________\n",
      "dense_15 (Dense)             (None, 10)                760       \n",
      "=================================================================\n",
      "Total params: 2,436,035\n",
      "Trainable params: 2,435,285\n",
      "Non-trainable params: 750\n",
      "_________________________________________________________________\n"
     ]
    }
   ],
   "source": [
    "model3= Sequential()\n",
    "model3.add(Conv2D(50, kernel_size=(5, 5),activation='relu',input_shape=input_shape,padding='same'))\n",
    "model3.add(Conv2D(100, (5, 5), activation='relu',padding='same'))\n",
    "model3.add(Conv2D(150, (5, 5), activation='relu',padding='same'))\n",
    "model3.add(Dropout(0.3))\n",
    "model3.add(Conv2D(200, (5, 5), activation='relu',padding='same'))\n",
    "model3.add(MaxPooling2D(pool_size=(4, 4)))\n",
    "model3.add(Conv2D(250, (3, 3),activation='relu',input_shape=input_shape,padding='same'))\n",
    "model3.add(Conv2D(300, (3, 3), activation='relu',padding='same'))\n",
    "model3.add(MaxPooling2D(pool_size=(4, 4)))\n",
    "model3.add(BatchNormalization())\n",
    "model3.add(Flatten())\n",
    "model3.add(Dense(150, activation='relu',kernel_initializer=keras.initializers.he_normal()))\n",
    "model3.add(Dropout(0.3))\n",
    "model3.add(Dense(75, activation='relu',kernel_initializer=keras.initializers.he_normal()))\n",
    "model3.add(BatchNormalization())\n",
    "model3.add(Dense(num_classes, activation='softmax'))\n",
    "model3.summary()\n"
   ]
  },
  {
   "cell_type": "code",
   "execution_count": 0,
   "metadata": {
    "colab": {
     "base_uri": "https://localhost:8080/",
     "height": 493
    },
    "colab_type": "code",
    "id": "KuNlmaR3Y0wd",
    "outputId": "b32d71aa-a7b5-4ed6-a9c8-bf8c8cb5ef8a"
   },
   "outputs": [
    {
     "name": "stdout",
     "output_type": "stream",
     "text": [
      "Train on 60000 samples, validate on 10000 samples\n",
      "Epoch 1/12\n",
      "60000/60000 [==============================] - 76s 1ms/step - loss: 0.2017 - acc: 0.9405 - val_loss: 0.0867 - val_acc: 0.9730\n",
      "Epoch 2/12\n",
      "60000/60000 [==============================] - 71s 1ms/step - loss: 0.0518 - acc: 0.9851 - val_loss: 0.0659 - val_acc: 0.9790\n",
      "Epoch 3/12\n",
      "60000/60000 [==============================] - 71s 1ms/step - loss: 0.0416 - acc: 0.9875 - val_loss: 0.0347 - val_acc: 0.9879\n",
      "Epoch 4/12\n",
      "60000/60000 [==============================] - 71s 1ms/step - loss: 0.0319 - acc: 0.9904 - val_loss: 0.0383 - val_acc: 0.9873\n",
      "Epoch 5/12\n",
      "60000/60000 [==============================] - 71s 1ms/step - loss: 0.0276 - acc: 0.9917 - val_loss: 0.0190 - val_acc: 0.9941\n",
      "Epoch 6/12\n",
      "60000/60000 [==============================] - 71s 1ms/step - loss: 0.0233 - acc: 0.9929 - val_loss: 0.0300 - val_acc: 0.9911\n",
      "Epoch 7/12\n",
      "60000/60000 [==============================] - 71s 1ms/step - loss: 0.0207 - acc: 0.9938 - val_loss: 0.0283 - val_acc: 0.9918\n",
      "Epoch 8/12\n",
      "60000/60000 [==============================] - 72s 1ms/step - loss: 0.0194 - acc: 0.9941 - val_loss: 0.0299 - val_acc: 0.9914\n",
      "Epoch 9/12\n",
      "60000/60000 [==============================] - 71s 1ms/step - loss: 0.0177 - acc: 0.9944 - val_loss: 0.0406 - val_acc: 0.9881\n",
      "Epoch 10/12\n",
      "60000/60000 [==============================] - 71s 1ms/step - loss: 0.0150 - acc: 0.9951 - val_loss: 0.0340 - val_acc: 0.9903\n",
      "Epoch 11/12\n",
      "60000/60000 [==============================] - 71s 1ms/step - loss: 0.0149 - acc: 0.9949 - val_loss: 0.0388 - val_acc: 0.9894\n",
      "Epoch 12/12\n",
      "60000/60000 [==============================] - 71s 1ms/step - loss: 0.0132 - acc: 0.9959 - val_loss: 0.0274 - val_acc: 0.9928\n",
      "10000/10000 [==============================] - 5s 535us/step\n",
      "Test loss: 0.027409326126934322\n",
      "Test accuracy: 0.9928\n"
     ]
    }
   ],
   "source": [
    "model3.compile(optimizer='adam', loss='categorical_crossentropy', metrics=['accuracy'])\n",
    "history=model3.fit(x_train, y_train,batch_size=batch_size,epochs=epochs,validation_data=(x_test, y_test))\n",
    "score = model3.evaluate(x_test, y_test)\n",
    "print('Test loss:', score[0])\n",
    "print('Test accuracy:', score[1])\n"
   ]
  },
  {
   "cell_type": "code",
   "execution_count": 0,
   "metadata": {
    "colab": {
     "base_uri": "https://localhost:8080/",
     "height": 361
    },
    "colab_type": "code",
    "id": "tox7NKCiRxqF",
    "outputId": "ad838604-1620-4acf-d885-f6cf95fbe61f"
   },
   "outputs": [
    {
     "data": {
      "image/png": "[encoded data removed]",
      "text/plain": [
       "<Figure size 576x396 with 1 Axes>"
      ]
     },
     "metadata": {
      "tags": []
     },
     "output_type": "display_data"
    }
   ],
   "source": [
    "x = list(range(1,epochs+1))\n",
    "vy = history.history['val_loss']\n",
    "ty = history.history['loss']\n",
    "plt.plot(x, vy, 'b', label=\"Validation Loss\")\n",
    "plt.plot(x, ty, 'r', label=\"Train Loss\")\n",
    "plt.legend()\n",
    "plt.xlabel('epoch')\n",
    "plt.ylabel('Categorical Crossentropy Loss')\n",
    "plt.grid()"
   ]
  },
  {
   "cell_type": "markdown",
   "metadata": {},
   "source": [
    "#### Model 3 with drop rate 0.3"
   ]
  },
  {
   "cell_type": "code",
   "execution_count": 0,
   "metadata": {
    "colab": {
     "base_uri": "https://localhost:8080/",
     "height": 680
    },
    "colab_type": "code",
    "id": "VRTcGOwLYQey",
    "outputId": "3202bebd-1dc2-45a8-f56d-7183819255e2"
   },
   "outputs": [
    {
     "name": "stdout",
     "output_type": "stream",
     "text": [
      "_________________________________________________________________\n",
      "Layer (type)                 Output Shape              Param #   \n",
      "=================================================================\n",
      "conv2d_28 (Conv2D)           (None, 28, 28, 50)        1300      \n",
      "_________________________________________________________________\n",
      "conv2d_29 (Conv2D)           (None, 28, 28, 100)       125100    \n",
      "_________________________________________________________________\n",
      "conv2d_30 (Conv2D)           (None, 28, 28, 150)       375150    \n",
      "_________________________________________________________________\n",
      "dropout_9 (Dropout)          (None, 28, 28, 150)       0         \n",
      "_________________________________________________________________\n",
      "conv2d_31 (Conv2D)           (None, 28, 28, 200)       750200    \n",
      "_________________________________________________________________\n",
      "max_pooling2d_9 (MaxPooling2 (None, 7, 7, 200)         0         \n",
      "_________________________________________________________________\n",
      "conv2d_32 (Conv2D)           (None, 7, 7, 250)         450250    \n",
      "_________________________________________________________________\n",
      "conv2d_33 (Conv2D)           (None, 7, 7, 300)         675300    \n",
      "_________________________________________________________________\n",
      "max_pooling2d_10 (MaxPooling (None, 1, 1, 300)         0         \n",
      "_________________________________________________________________\n",
      "batch_normalization_9 (Batch (None, 1, 1, 300)         1200      \n",
      "_________________________________________________________________\n",
      "flatten_8 (Flatten)          (None, 300)               0         \n",
      "_________________________________________________________________\n",
      "dense_16 (Dense)             (None, 150)               45150     \n",
      "_________________________________________________________________\n",
      "dropout_10 (Dropout)         (None, 150)               0         \n",
      "_________________________________________________________________\n",
      "dense_17 (Dense)             (None, 75)                11325     \n",
      "_________________________________________________________________\n",
      "batch_normalization_10 (Batc (None, 75)                300       \n",
      "_________________________________________________________________\n",
      "dense_18 (Dense)             (None, 10)                760       \n",
      "=================================================================\n",
      "Total params: 2,436,035\n",
      "Trainable params: 2,435,285\n",
      "Non-trainable params: 750\n",
      "_________________________________________________________________\n"
     ]
    }
   ],
   "source": [
    "model3= Sequential()\n",
    "model3.add(Conv2D(50, kernel_size=(5, 5),activation='relu',input_shape=input_shape,padding='same'))\n",
    "model3.add(Conv2D(100, (5, 5), activation='relu',padding='same'))\n",
    "model3.add(Conv2D(150, (5, 5), activation='relu',padding='same'))\n",
    "model3.add(Dropout(0.5))\n",
    "model3.add(Conv2D(200, (5, 5), activation='relu',padding='same'))\n",
    "model3.add(MaxPooling2D(pool_size=(4, 4)))\n",
    "model3.add(Conv2D(250, (3, 3),activation='relu',input_shape=input_shape,padding='same'))\n",
    "model3.add(Conv2D(300, (3, 3), activation='relu',padding='same'))\n",
    "model3.add(MaxPooling2D(pool_size=(4, 4)))\n",
    "model3.add(BatchNormalization())\n",
    "model3.add(Flatten())\n",
    "model3.add(Dense(150, activation='relu',kernel_initializer=keras.initializers.he_normal()))\n",
    "model3.add(Dropout(0.5))\n",
    "model3.add(Dense(75, activation='relu',kernel_initializer=keras.initializers.he_normal()))\n",
    "model3.add(BatchNormalization())\n",
    "model3.add(Dense(num_classes, activation='softmax'))\n",
    "model3.summary()\n"
   ]
  },
  {
   "cell_type": "code",
   "execution_count": 0,
   "metadata": {
    "colab": {
     "base_uri": "https://localhost:8080/",
     "height": 493
    },
    "colab_type": "code",
    "id": "UTiGiQBru7ps",
    "outputId": "15c0694d-9647-412f-aa39-d70faed7dc8c"
   },
   "outputs": [
    {
     "name": "stdout",
     "output_type": "stream",
     "text": [
      "Train on 60000 samples, validate on 10000 samples\n",
      "Epoch 1/12\n",
      "60000/60000 [==============================] - 73s 1ms/step - loss: 0.2711 - acc: 0.9214 - val_loss: 0.1396 - val_acc: 0.9578\n",
      "Epoch 2/12\n",
      "60000/60000 [==============================] - 71s 1ms/step - loss: 0.0661 - acc: 0.9819 - val_loss: 0.0451 - val_acc: 0.9875\n",
      "Epoch 3/12\n",
      "60000/60000 [==============================] - 71s 1ms/step - loss: 0.0484 - acc: 0.9858 - val_loss: 0.0393 - val_acc: 0.9872\n",
      "Epoch 4/12\n",
      "60000/60000 [==============================] - 71s 1ms/step - loss: 0.0400 - acc: 0.9880 - val_loss: 0.0485 - val_acc: 0.9853\n",
      "Epoch 5/12\n",
      "60000/60000 [==============================] - 72s 1ms/step - loss: 0.0353 - acc: 0.9900 - val_loss: 0.0542 - val_acc: 0.9828\n",
      "Epoch 6/12\n",
      "60000/60000 [==============================] - 72s 1ms/step - loss: 0.0312 - acc: 0.9907 - val_loss: 0.0279 - val_acc: 0.9919\n",
      "Epoch 7/12\n",
      "60000/60000 [==============================] - 72s 1ms/step - loss: 0.0275 - acc: 0.9920 - val_loss: 0.0277 - val_acc: 0.9919\n",
      "Epoch 8/12\n",
      "60000/60000 [==============================] - 71s 1ms/step - loss: 0.0255 - acc: 0.9922 - val_loss: 0.0257 - val_acc: 0.9922\n",
      "Epoch 9/12\n",
      "60000/60000 [==============================] - 71s 1ms/step - loss: 0.0229 - acc: 0.9932 - val_loss: 0.0198 - val_acc: 0.9940\n",
      "Epoch 10/12\n",
      "60000/60000 [==============================] - 71s 1ms/step - loss: 0.0213 - acc: 0.9935 - val_loss: 0.0178 - val_acc: 0.9949\n",
      "Epoch 11/12\n",
      "60000/60000 [==============================] - 71s 1ms/step - loss: 0.0189 - acc: 0.9944 - val_loss: 0.0255 - val_acc: 0.9920\n",
      "Epoch 12/12\n",
      "60000/60000 [==============================] - 71s 1ms/step - loss: 0.0178 - acc: 0.9947 - val_loss: 0.0262 - val_acc: 0.9924\n",
      "10000/10000 [==============================] - 5s 524us/step\n",
      "Test loss: 0.026223327216433792\n",
      "Test accuracy: 0.9924\n"
     ]
    }
   ],
   "source": [
    "model3.compile(optimizer='adam', loss='categorical_crossentropy', metrics=['accuracy'])\n",
    "history=model3.fit(x_train, y_train,batch_size=batch_size,epochs=epochs,validation_data=(x_test, y_test))\n",
    "score = model3.evaluate(x_test, y_test)\n",
    "print('Test loss:', score[0])\n",
    "print('Test accuracy:', score[1])\n"
   ]
  },
  {
   "cell_type": "code",
   "execution_count": 0,
   "metadata": {
    "colab": {
     "base_uri": "https://localhost:8080/",
     "height": 361
    },
    "colab_type": "code",
    "id": "TtXl95ZUu7wi",
    "outputId": "d0997c28-7ad7-4ba1-9ac1-cf0758b90c30"
   },
   "outputs": [
    {
     "data": {
      "image/png": "[encoded data removed]",
      "text/plain": [
       "<Figure size 576x396 with 1 Axes>"
      ]
     },
     "metadata": {
      "tags": []
     },
     "output_type": "display_data"
    }
   ],
   "source": [
    "x = list(range(1,epochs+1))\n",
    "vy = history.history['val_loss']\n",
    "ty = history.history['loss']\n",
    "plt.plot(x, vy, 'b', label=\"Validation Loss\")\n",
    "plt.plot(x, ty, 'r', label=\"Train Loss\")\n",
    "plt.legend()\n",
    "plt.xlabel('epoch')\n",
    "plt.ylabel('Categorical Crossentropy Loss')\n",
    "plt.grid()"
   ]
  },
  {
   "cell_type": "markdown",
   "metadata": {},
   "source": [
    "#### Model 3 with drop rate 0.9"
   ]
  },
  {
   "cell_type": "code",
   "execution_count": 0,
   "metadata": {
    "colab": {
     "base_uri": "https://localhost:8080/",
     "height": 680
    },
    "colab_type": "code",
    "id": "Lh4vGCrxu76x",
    "outputId": "995a5482-f086-4511-c22e-4d1ac8cf774e"
   },
   "outputs": [
    {
     "name": "stdout",
     "output_type": "stream",
     "text": [
      "_________________________________________________________________\n",
      "Layer (type)                 Output Shape              Param #   \n",
      "=================================================================\n",
      "conv2d_34 (Conv2D)           (None, 28, 28, 50)        1300      \n",
      "_________________________________________________________________\n",
      "conv2d_35 (Conv2D)           (None, 28, 28, 100)       125100    \n",
      "_________________________________________________________________\n",
      "conv2d_36 (Conv2D)           (None, 28, 28, 150)       375150    \n",
      "_________________________________________________________________\n",
      "dropout_11 (Dropout)         (None, 28, 28, 150)       0         \n",
      "_________________________________________________________________\n",
      "conv2d_37 (Conv2D)           (None, 28, 28, 200)       750200    \n",
      "_________________________________________________________________\n",
      "max_pooling2d_11 (MaxPooling (None, 7, 7, 200)         0         \n",
      "_________________________________________________________________\n",
      "conv2d_38 (Conv2D)           (None, 7, 7, 250)         450250    \n",
      "_________________________________________________________________\n",
      "conv2d_39 (Conv2D)           (None, 7, 7, 300)         675300    \n",
      "_________________________________________________________________\n",
      "max_pooling2d_12 (MaxPooling (None, 1, 1, 300)         0         \n",
      "_________________________________________________________________\n",
      "batch_normalization_11 (Batc (None, 1, 1, 300)         1200      \n",
      "_________________________________________________________________\n",
      "flatten_9 (Flatten)          (None, 300)               0         \n",
      "_________________________________________________________________\n",
      "dense_19 (Dense)             (None, 150)               45150     \n",
      "_________________________________________________________________\n",
      "dropout_12 (Dropout)         (None, 150)               0         \n",
      "_________________________________________________________________\n",
      "dense_20 (Dense)             (None, 75)                11325     \n",
      "_________________________________________________________________\n",
      "batch_normalization_12 (Batc (None, 75)                300       \n",
      "_________________________________________________________________\n",
      "dense_21 (Dense)             (None, 10)                760       \n",
      "=================================================================\n",
      "Total params: 2,436,035\n",
      "Trainable params: 2,435,285\n",
      "Non-trainable params: 750\n",
      "_________________________________________________________________\n"
     ]
    }
   ],
   "source": [
    "model3= Sequential()\n",
    "model3.add(Conv2D(50, kernel_size=(5, 5),activation='relu',input_shape=input_shape,padding='same'))\n",
    "model3.add(Conv2D(100, (5, 5), activation='relu',padding='same'))\n",
    "model3.add(Conv2D(150, (5, 5), activation='relu',padding='same'))\n",
    "model3.add(Dropout(0.9))\n",
    "model3.add(Conv2D(200, (5, 5), activation='relu',padding='same'))\n",
    "model3.add(MaxPooling2D(pool_size=(4, 4)))\n",
    "model3.add(Conv2D(250, (3, 3),activation='relu',input_shape=input_shape,padding='same'))\n",
    "model3.add(Conv2D(300, (3, 3), activation='relu',padding='same'))\n",
    "model3.add(MaxPooling2D(pool_size=(4, 4)))\n",
    "model3.add(BatchNormalization())\n",
    "model3.add(Flatten())\n",
    "model3.add(Dense(150, activation='relu',kernel_initializer=keras.initializers.he_normal()))\n",
    "model3.add(Dropout(0.5))\n",
    "model3.add(Dense(75, activation='relu',kernel_initializer=keras.initializers.he_normal()))\n",
    "model3.add(BatchNormalization())\n",
    "model3.add(Dense(num_classes, activation='softmax'))\n",
    "model3.summary()\n"
   ]
  },
  {
   "cell_type": "code",
   "execution_count": 0,
   "metadata": {
    "colab": {
     "base_uri": "https://localhost:8080/",
     "height": 493
    },
    "colab_type": "code",
    "id": "UGrcLMEru8KZ",
    "outputId": "67e85a8b-1046-40dd-d3df-920afafa527e"
   },
   "outputs": [
    {
     "name": "stdout",
     "output_type": "stream",
     "text": [
      "Train on 60000 samples, validate on 10000 samples\n",
      "Epoch 1/12\n",
      "60000/60000 [==============================] - 73s 1ms/step - loss: 0.3579 - acc: 0.8907 - val_loss: 5.9545 - val_acc: 0.2892\n",
      "Epoch 2/12\n",
      "60000/60000 [==============================] - 71s 1ms/step - loss: 0.1014 - acc: 0.9701 - val_loss: 6.1427 - val_acc: 0.2752\n",
      "Epoch 3/12\n",
      "60000/60000 [==============================] - 72s 1ms/step - loss: 0.0719 - acc: 0.9793 - val_loss: 5.3559 - val_acc: 0.2638\n",
      "Epoch 4/12\n",
      "60000/60000 [==============================] - 72s 1ms/step - loss: 0.0590 - acc: 0.9826 - val_loss: 2.8091 - val_acc: 0.4592\n",
      "Epoch 5/12\n",
      "60000/60000 [==============================] - 71s 1ms/step - loss: 0.0518 - acc: 0.9848 - val_loss: 0.8636 - val_acc: 0.7235\n",
      "Epoch 6/12\n",
      "60000/60000 [==============================] - 71s 1ms/step - loss: 0.0454 - acc: 0.9867 - val_loss: 1.8887 - val_acc: 0.5702\n",
      "Epoch 7/12\n",
      "60000/60000 [==============================] - 71s 1ms/step - loss: 0.0403 - acc: 0.9882 - val_loss: 2.4166 - val_acc: 0.5062\n",
      "Epoch 8/12\n",
      "60000/60000 [==============================] - 71s 1ms/step - loss: 0.0395 - acc: 0.9883 - val_loss: 0.7499 - val_acc: 0.7711\n",
      "Epoch 9/12\n",
      "60000/60000 [==============================] - 71s 1ms/step - loss: 0.0361 - acc: 0.9895 - val_loss: 1.8686 - val_acc: 0.4973\n",
      "Epoch 10/12\n",
      "60000/60000 [==============================] - 71s 1ms/step - loss: 0.0324 - acc: 0.9902 - val_loss: 0.7134 - val_acc: 0.7792\n",
      "Epoch 11/12\n",
      "60000/60000 [==============================] - 71s 1ms/step - loss: 0.0301 - acc: 0.9910 - val_loss: 1.5269 - val_acc: 0.5901\n",
      "Epoch 12/12\n",
      "60000/60000 [==============================] - 72s 1ms/step - loss: 0.0271 - acc: 0.9919 - val_loss: 0.3399 - val_acc: 0.9001\n",
      "10000/10000 [==============================] - 6s 552us/step\n",
      "Test loss: 0.33989222731292246\n",
      "Test accuracy: 0.9001\n"
     ]
    }
   ],
   "source": [
    "model3.compile(optimizer='adam', loss='categorical_crossentropy', metrics=['accuracy'])\n",
    "history=model3.fit(x_train, y_train,batch_size=batch_size,epochs=epochs,validation_data=(x_test, y_test))\n",
    "score = model3.evaluate(x_test, y_test)\n",
    "print('Test loss:', score[0])\n",
    "print('Test accuracy:', score[1])\n"
   ]
  },
  {
   "cell_type": "code",
   "execution_count": 0,
   "metadata": {
    "colab": {
     "base_uri": "https://localhost:8080/",
     "height": 361
    },
    "colab_type": "code",
    "id": "akWytPH_u8SN",
    "outputId": "1daecf19-c8dd-421d-f43c-8bdd02f6168a"
   },
   "outputs": [
    {
     "data": {
      "image/png": "[encoded data removed]",
      "text/plain": [
       "<Figure size 576x396 with 1 Axes>"
      ]
     },
     "metadata": {
      "tags": []
     },
     "output_type": "display_data"
    }
   ],
   "source": [
    "x = list(range(1,epochs+1))\n",
    "vy = history.history['val_loss']\n",
    "ty = history.history['loss']\n",
    "plt.plot(x, vy, 'b', label=\"Validation Loss\")\n",
    "plt.plot(x, ty, 'r', label=\"Train Loss\")\n",
    "plt.legend()\n",
    "plt.xlabel('epoch')\n",
    "plt.ylabel('Categorical Crossentropy Loss')\n",
    "plt.grid()"
   ]
  },
  {
   "cell_type": "markdown",
   "metadata": {},
   "source": [
    "#### Observations"
   ]
  },
  {
   "cell_type": "markdown",
   "metadata": {},
   "source": [
    "##### Performance comparision "
   ]
  },
  {
   "cell_type": "markdown",
   "metadata": {},
   "source": [
    "###### model1"
   ]
  },
  {
   "cell_type": "code",
   "execution_count": 3,
   "metadata": {
    "colab": {},
    "colab_type": "code",
    "id": "ar_cjR29u8aq"
   },
   "outputs": [
    {
     "name": "stdout",
     "output_type": "stream",
     "text": [
      "+--------+---------------+---------------------+\n",
      "| Model  | Drop out rate | Test accuracy score |\n",
      "+--------+---------------+---------------------+\n",
      "| Model1 |      0.3      |        0.9929       |\n",
      "| Model1 |      0.5      |        0.9891       |\n",
      "| Model1 |      0.9      |        0.7335       |\n",
      "+--------+---------------+---------------------+\n"
     ]
    }
   ],
   "source": [
    "from prettytable import PrettyTable\n",
    "model1_table= PrettyTable()\n",
    "model1_table.field_names = [\"Model\",'Drop out rate',\"Test accuracy score\"]\n",
    "model1_table.add_row([\"Model1\",'0.3',0.9929])\n",
    "model1_table.add_row([\"Model1\",'0.5',0.9891])\n",
    "model1_table.add_row([\"Model1\",'0.9',0.7335])\n",
    "print(model1_table)"
   ]
  },
  {
   "cell_type": "markdown",
   "metadata": {},
   "source": [
    "It can be observed form the above tables that with drop out rate of 0.3 the model produces best score and with 0.5 as drop out rate the model produces slightly lower accuracy score but with  0.9 as the drop out rate the test accuracy decreases significently"
   ]
  },
  {
   "cell_type": "markdown",
   "metadata": {},
   "source": [
    "###### model2"
   ]
  },
  {
   "cell_type": "code",
   "execution_count": 4,
   "metadata": {},
   "outputs": [
    {
     "name": "stdout",
     "output_type": "stream",
     "text": [
      "+--------+---------------+---------------------+\n",
      "| Model  | Drop out rate | Test accuracy score |\n",
      "+--------+---------------+---------------------+\n",
      "| Model2 |      0.3      |        0.9922       |\n",
      "| Model2 |      0.5      |        0.9923       |\n",
      "| Model2 |      0.9      |        0.9364       |\n",
      "+--------+---------------+---------------------+\n"
     ]
    }
   ],
   "source": [
    "model2_table= PrettyTable()\n",
    "model2_table.field_names = [\"Model\",'Drop out rate',\"Test accuracy score\"]\n",
    "model2_table.add_row([\"Model2\",'0.3',0.9922])\n",
    "model2_table.add_row([\"Model2\",'0.5',0.9923])\n",
    "model2_table.add_row([\"Model2\",'0.9',0.9364])\n",
    "print(model2_table)"
   ]
  },
  {
   "cell_type": "markdown",
   "metadata": {},
   "source": [
    "It can be observed form the above tables that with drop out rate of 0.3 and 0.5 the model produces similar results but with  0.9 as the drop out rate the test accuracy decreases considerably "
   ]
  },
  {
   "cell_type": "markdown",
   "metadata": {},
   "source": [
    "###### model 3"
   ]
  },
  {
   "cell_type": "code",
   "execution_count": 5,
   "metadata": {},
   "outputs": [
    {
     "name": "stdout",
     "output_type": "stream",
     "text": [
      "+--------+---------------+---------------------+\n",
      "| Model  | Drop out rate | Test accuracy score |\n",
      "+--------+---------------+---------------------+\n",
      "| Model3 |      0.3      |        0.9928       |\n",
      "| Model3 |      0.5      |        0.9924       |\n",
      "| Model3 |      0.9      |        0.9001       |\n",
      "+--------+---------------+---------------------+\n"
     ]
    }
   ],
   "source": [
    "model3_table= PrettyTable()\n",
    "model3_table.field_names = [\"Model\",'Drop out rate',\"Test accuracy score\"]\n",
    "model3_table.add_row([\"Model3\",'0.3',0.9928])\n",
    "model3_table.add_row([\"Model3\",'0.5',0.9924])\n",
    "model3_table.add_row([\"Model3\",'0.9',0.9001])\n",
    "print(model3_table)"
   ]
  },
  {
   "cell_type": "markdown",
   "metadata": {},
   "source": [
    "It can be observed form the above tables that with drop out rate of 0.3 and 0.5 the model produces similar results but with  0.9 as the drop out rate the test accuracy decreases considerably "
   ]
  },
  {
   "cell_type": "code",
   "execution_count": null,
   "metadata": {},
   "outputs": [],
   "source": []
  }
 ],
 "metadata": {
  "accelerator": "GPU",
  "colab": {
   "collapsed_sections": [],
   "name": "CNN_assignment.ipynb",
   "provenance": [],
   "version": "0.3.2"
  },
  "kernelspec": {
   "display_name": "Python 3",
   "language": "python",
   "name": "python3"
  },
  "language_info": {
   "codemirror_mode": {
    "name": "ipython",
    "version": 3
   },
   "file_extension": ".py",
   "mimetype": "text/x-python",
   "name": "python",
   "nbconvert_exporter": "python",
   "pygments_lexer": "ipython3",
   "version": "3.7.1"
  }
 },
 "nbformat": 4,
 "nbformat_minor": 1
}
